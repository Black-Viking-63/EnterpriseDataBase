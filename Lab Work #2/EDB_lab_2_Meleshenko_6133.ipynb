{
  "nbformat": 4,
  "nbformat_minor": 0,
  "metadata": {
    "colab": {
      "name": "EDB_lab_2_Meleshenko_6133.ipynb",
      "provenance": [],
      "toc_visible": true
    },
    "kernelspec": {
      "name": "python3",
      "display_name": "Python 3"
    },
    "language_info": {
      "name": "python"
    }
  },
  "cells": [
    {
      "cell_type": "markdown",
      "source": [
        "# Лабораторная работа №2 Машинное обучение<br>по курсу \"Databases in Enterprise Systems\"\n",
        "\n",
        "Выполнил студент группы 6133-010402D Мелешенко Иван"
      ],
      "metadata": {
        "id": "_pnMK8AdZs4Z"
      }
    },
    {
      "cell_type": "markdown",
      "source": [
        "#Задание на лабораторную работу"
      ],
      "metadata": {
        "id": "lm34p4r318V5"
      }
    },
    {
      "cell_type": "markdown",
      "source": [
        "1. Сформулировать задачу машинного обучения для БД из 1 лабораторной, которую собираетесь решать.\n",
        "2. Разделить данные из БД на тренировочные и тестовые.\n",
        "3. Определить вектор признаков для данных вашей предметной области. Самая сложная часть работы, от которой зависит дальнейшая эффективность машинного обучения, советую ориентироваться на существующие принципы выбора признаков и предварительной обработки данных в выбранной предметной области.\n",
        "4. Выбрать тип классификатора: от самых простых kNN и линейного до нейронных сетей и RandomForest.\n",
        "5. Оценить оптимальные значения гиперпараметров. Построить соответствующие зависимости качества распознавания от гиперпараметров.\n",
        "6. Обучить классификатор на тренировочной выборке и оценить его эффективность на тестовой выборке."
      ],
      "metadata": {
        "id": "AZzWJlUU1WsN"
      }
    },
    {
      "cell_type": "markdown",
      "source": [
        "#Этапы выполнения лабораторной работы"
      ],
      "metadata": {
        "id": "XpDU7Ckc4sMC"
      }
    },
    {
      "cell_type": "markdown",
      "source": [
        "##Этап 1. Подготовка к выполнению лабораторной работы.\n",
        "\n"
      ],
      "metadata": {
        "id": "WYvi-gpE462C"
      }
    },
    {
      "cell_type": "markdown",
      "source": [
        "### Подключение бибилотек"
      ],
      "metadata": {
        "id": "rC0eKVAe5S2z"
      }
    },
    {
      "cell_type": "code",
      "source": [
        "import pandas as pd\n",
        "import numpy as np\n",
        "import seaborn as sns\n",
        "import matplotlib.pyplot as plt\n",
        "from sklearn.model_selection import train_test_split, GridSearchCV\n",
        "from sklearn.tree import DecisionTreeClassifier\n",
        "from sklearn.ensemble import RandomForestClassifier\n",
        "from sklearn.neighbors import KNeighborsClassifier\n",
        "from sklearn.pipeline import Pipeline\n",
        "from sklearn.preprocessing import MinMaxScaler\n",
        "from sklearn.metrics import classification_report, accuracy_score\n",
        "from warnings import filterwarnings\n",
        "filterwarnings(\"ignore\")"
      ],
      "metadata": {
        "id": "QdACElNI5Wxc"
      },
      "execution_count": 1,
      "outputs": []
    },
    {
      "cell_type": "markdown",
      "source": [
        "###Подключение Google Drive"
      ],
      "metadata": {
        "id": "JLKdkHJh5Znq"
      }
    },
    {
      "cell_type": "code",
      "source": [
        "from google.colab import drive\n",
        "drive.mount('/content/drive')"
      ],
      "metadata": {
        "id": "kPpBQJqr5ZIC",
        "colab": {
          "base_uri": "https://localhost:8080/"
        },
        "outputId": "3d0a6e1b-d9a8-40b4-b812-789d114bc4c4"
      },
      "execution_count": 2,
      "outputs": [
        {
          "output_type": "stream",
          "name": "stdout",
          "text": [
            "Mounted at /content/drive\n"
          ]
        }
      ]
    },
    {
      "cell_type": "markdown",
      "source": [
        "### Загрузка данных"
      ],
      "metadata": {
        "id": "GYDjOzAm6dNz"
      }
    },
    {
      "cell_type": "code",
      "source": [
        "dataframe = pd.read_csv(\"/content/drive/MyDrive/datasets/diabetes.csv\")\n",
        "dataframe"
      ],
      "metadata": {
        "colab": {
          "base_uri": "https://localhost:8080/",
          "height": 424
        },
        "id": "-hUsoPEk7GeD",
        "outputId": "76f3e3d4-0b72-4a7d-a7f8-a8a104df1553"
      },
      "execution_count": 3,
      "outputs": [
        {
          "output_type": "execute_result",
          "data": {
            "text/plain": [
              "     Pregnancies  Glucose  BloodPressure  SkinThickness  Insulin   BMI  \\\n",
              "0              6      148             72             35        0  33.6   \n",
              "1              1       85             66             29        0  26.6   \n",
              "2              8      183             64              0        0  23.3   \n",
              "3              1       89             66             23       94  28.1   \n",
              "4              0      137             40             35      168  43.1   \n",
              "..           ...      ...            ...            ...      ...   ...   \n",
              "763           10      101             76             48      180  32.9   \n",
              "764            2      122             70             27        0  36.8   \n",
              "765            5      121             72             23      112  26.2   \n",
              "766            1      126             60              0        0  30.1   \n",
              "767            1       93             70             31        0  30.4   \n",
              "\n",
              "     DiabetesPedigreeFunction  Age  Outcome  \n",
              "0                       0.627   50        1  \n",
              "1                       0.351   31        0  \n",
              "2                       0.672   32        1  \n",
              "3                       0.167   21        0  \n",
              "4                       2.288   33        1  \n",
              "..                        ...  ...      ...  \n",
              "763                     0.171   63        0  \n",
              "764                     0.340   27        0  \n",
              "765                     0.245   30        0  \n",
              "766                     0.349   47        1  \n",
              "767                     0.315   23        0  \n",
              "\n",
              "[768 rows x 9 columns]"
            ],
            "text/html": [
              "\n",
              "  <div id=\"df-e10c37fe-fcd6-4f98-a9da-03803bee0314\">\n",
              "    <div class=\"colab-df-container\">\n",
              "      <div>\n",
              "<style scoped>\n",
              "    .dataframe tbody tr th:only-of-type {\n",
              "        vertical-align: middle;\n",
              "    }\n",
              "\n",
              "    .dataframe tbody tr th {\n",
              "        vertical-align: top;\n",
              "    }\n",
              "\n",
              "    .dataframe thead th {\n",
              "        text-align: right;\n",
              "    }\n",
              "</style>\n",
              "<table border=\"1\" class=\"dataframe\">\n",
              "  <thead>\n",
              "    <tr style=\"text-align: right;\">\n",
              "      <th></th>\n",
              "      <th>Pregnancies</th>\n",
              "      <th>Glucose</th>\n",
              "      <th>BloodPressure</th>\n",
              "      <th>SkinThickness</th>\n",
              "      <th>Insulin</th>\n",
              "      <th>BMI</th>\n",
              "      <th>DiabetesPedigreeFunction</th>\n",
              "      <th>Age</th>\n",
              "      <th>Outcome</th>\n",
              "    </tr>\n",
              "  </thead>\n",
              "  <tbody>\n",
              "    <tr>\n",
              "      <th>0</th>\n",
              "      <td>6</td>\n",
              "      <td>148</td>\n",
              "      <td>72</td>\n",
              "      <td>35</td>\n",
              "      <td>0</td>\n",
              "      <td>33.6</td>\n",
              "      <td>0.627</td>\n",
              "      <td>50</td>\n",
              "      <td>1</td>\n",
              "    </tr>\n",
              "    <tr>\n",
              "      <th>1</th>\n",
              "      <td>1</td>\n",
              "      <td>85</td>\n",
              "      <td>66</td>\n",
              "      <td>29</td>\n",
              "      <td>0</td>\n",
              "      <td>26.6</td>\n",
              "      <td>0.351</td>\n",
              "      <td>31</td>\n",
              "      <td>0</td>\n",
              "    </tr>\n",
              "    <tr>\n",
              "      <th>2</th>\n",
              "      <td>8</td>\n",
              "      <td>183</td>\n",
              "      <td>64</td>\n",
              "      <td>0</td>\n",
              "      <td>0</td>\n",
              "      <td>23.3</td>\n",
              "      <td>0.672</td>\n",
              "      <td>32</td>\n",
              "      <td>1</td>\n",
              "    </tr>\n",
              "    <tr>\n",
              "      <th>3</th>\n",
              "      <td>1</td>\n",
              "      <td>89</td>\n",
              "      <td>66</td>\n",
              "      <td>23</td>\n",
              "      <td>94</td>\n",
              "      <td>28.1</td>\n",
              "      <td>0.167</td>\n",
              "      <td>21</td>\n",
              "      <td>0</td>\n",
              "    </tr>\n",
              "    <tr>\n",
              "      <th>4</th>\n",
              "      <td>0</td>\n",
              "      <td>137</td>\n",
              "      <td>40</td>\n",
              "      <td>35</td>\n",
              "      <td>168</td>\n",
              "      <td>43.1</td>\n",
              "      <td>2.288</td>\n",
              "      <td>33</td>\n",
              "      <td>1</td>\n",
              "    </tr>\n",
              "    <tr>\n",
              "      <th>...</th>\n",
              "      <td>...</td>\n",
              "      <td>...</td>\n",
              "      <td>...</td>\n",
              "      <td>...</td>\n",
              "      <td>...</td>\n",
              "      <td>...</td>\n",
              "      <td>...</td>\n",
              "      <td>...</td>\n",
              "      <td>...</td>\n",
              "    </tr>\n",
              "    <tr>\n",
              "      <th>763</th>\n",
              "      <td>10</td>\n",
              "      <td>101</td>\n",
              "      <td>76</td>\n",
              "      <td>48</td>\n",
              "      <td>180</td>\n",
              "      <td>32.9</td>\n",
              "      <td>0.171</td>\n",
              "      <td>63</td>\n",
              "      <td>0</td>\n",
              "    </tr>\n",
              "    <tr>\n",
              "      <th>764</th>\n",
              "      <td>2</td>\n",
              "      <td>122</td>\n",
              "      <td>70</td>\n",
              "      <td>27</td>\n",
              "      <td>0</td>\n",
              "      <td>36.8</td>\n",
              "      <td>0.340</td>\n",
              "      <td>27</td>\n",
              "      <td>0</td>\n",
              "    </tr>\n",
              "    <tr>\n",
              "      <th>765</th>\n",
              "      <td>5</td>\n",
              "      <td>121</td>\n",
              "      <td>72</td>\n",
              "      <td>23</td>\n",
              "      <td>112</td>\n",
              "      <td>26.2</td>\n",
              "      <td>0.245</td>\n",
              "      <td>30</td>\n",
              "      <td>0</td>\n",
              "    </tr>\n",
              "    <tr>\n",
              "      <th>766</th>\n",
              "      <td>1</td>\n",
              "      <td>126</td>\n",
              "      <td>60</td>\n",
              "      <td>0</td>\n",
              "      <td>0</td>\n",
              "      <td>30.1</td>\n",
              "      <td>0.349</td>\n",
              "      <td>47</td>\n",
              "      <td>1</td>\n",
              "    </tr>\n",
              "    <tr>\n",
              "      <th>767</th>\n",
              "      <td>1</td>\n",
              "      <td>93</td>\n",
              "      <td>70</td>\n",
              "      <td>31</td>\n",
              "      <td>0</td>\n",
              "      <td>30.4</td>\n",
              "      <td>0.315</td>\n",
              "      <td>23</td>\n",
              "      <td>0</td>\n",
              "    </tr>\n",
              "  </tbody>\n",
              "</table>\n",
              "<p>768 rows × 9 columns</p>\n",
              "</div>\n",
              "      <button class=\"colab-df-convert\" onclick=\"convertToInteractive('df-e10c37fe-fcd6-4f98-a9da-03803bee0314')\"\n",
              "              title=\"Convert this dataframe to an interactive table.\"\n",
              "              style=\"display:none;\">\n",
              "        \n",
              "  <svg xmlns=\"http://www.w3.org/2000/svg\" height=\"24px\"viewBox=\"0 0 24 24\"\n",
              "       width=\"24px\">\n",
              "    <path d=\"M0 0h24v24H0V0z\" fill=\"none\"/>\n",
              "    <path d=\"M18.56 5.44l.94 2.06.94-2.06 2.06-.94-2.06-.94-.94-2.06-.94 2.06-2.06.94zm-11 1L8.5 8.5l.94-2.06 2.06-.94-2.06-.94L8.5 2.5l-.94 2.06-2.06.94zm10 10l.94 2.06.94-2.06 2.06-.94-2.06-.94-.94-2.06-.94 2.06-2.06.94z\"/><path d=\"M17.41 7.96l-1.37-1.37c-.4-.4-.92-.59-1.43-.59-.52 0-1.04.2-1.43.59L10.3 9.45l-7.72 7.72c-.78.78-.78 2.05 0 2.83L4 21.41c.39.39.9.59 1.41.59.51 0 1.02-.2 1.41-.59l7.78-7.78 2.81-2.81c.8-.78.8-2.07 0-2.86zM5.41 20L4 18.59l7.72-7.72 1.47 1.35L5.41 20z\"/>\n",
              "  </svg>\n",
              "      </button>\n",
              "      \n",
              "  <style>\n",
              "    .colab-df-container {\n",
              "      display:flex;\n",
              "      flex-wrap:wrap;\n",
              "      gap: 12px;\n",
              "    }\n",
              "\n",
              "    .colab-df-convert {\n",
              "      background-color: #E8F0FE;\n",
              "      border: none;\n",
              "      border-radius: 50%;\n",
              "      cursor: pointer;\n",
              "      display: none;\n",
              "      fill: #1967D2;\n",
              "      height: 32px;\n",
              "      padding: 0 0 0 0;\n",
              "      width: 32px;\n",
              "    }\n",
              "\n",
              "    .colab-df-convert:hover {\n",
              "      background-color: #E2EBFA;\n",
              "      box-shadow: 0px 1px 2px rgba(60, 64, 67, 0.3), 0px 1px 3px 1px rgba(60, 64, 67, 0.15);\n",
              "      fill: #174EA6;\n",
              "    }\n",
              "\n",
              "    [theme=dark] .colab-df-convert {\n",
              "      background-color: #3B4455;\n",
              "      fill: #D2E3FC;\n",
              "    }\n",
              "\n",
              "    [theme=dark] .colab-df-convert:hover {\n",
              "      background-color: #434B5C;\n",
              "      box-shadow: 0px 1px 3px 1px rgba(0, 0, 0, 0.15);\n",
              "      filter: drop-shadow(0px 1px 2px rgba(0, 0, 0, 0.3));\n",
              "      fill: #FFFFFF;\n",
              "    }\n",
              "  </style>\n",
              "\n",
              "      <script>\n",
              "        const buttonEl =\n",
              "          document.querySelector('#df-e10c37fe-fcd6-4f98-a9da-03803bee0314 button.colab-df-convert');\n",
              "        buttonEl.style.display =\n",
              "          google.colab.kernel.accessAllowed ? 'block' : 'none';\n",
              "\n",
              "        async function convertToInteractive(key) {\n",
              "          const element = document.querySelector('#df-e10c37fe-fcd6-4f98-a9da-03803bee0314');\n",
              "          const dataTable =\n",
              "            await google.colab.kernel.invokeFunction('convertToInteractive',\n",
              "                                                     [key], {});\n",
              "          if (!dataTable) return;\n",
              "\n",
              "          const docLinkHtml = 'Like what you see? Visit the ' +\n",
              "            '<a target=\"_blank\" href=https://colab.research.google.com/notebooks/data_table.ipynb>data table notebook</a>'\n",
              "            + ' to learn more about interactive tables.';\n",
              "          element.innerHTML = '';\n",
              "          dataTable['output_type'] = 'display_data';\n",
              "          await google.colab.output.renderOutput(dataTable, element);\n",
              "          const docLink = document.createElement('div');\n",
              "          docLink.innerHTML = docLinkHtml;\n",
              "          element.appendChild(docLink);\n",
              "        }\n",
              "      </script>\n",
              "    </div>\n",
              "  </div>\n",
              "  "
            ]
          },
          "metadata": {},
          "execution_count": 3
        }
      ]
    },
    {
      "cell_type": "markdown",
      "source": [
        "##Этап 2. Подготовка данных"
      ],
      "metadata": {
        "id": "9y6Y4XgZGUis"
      }
    },
    {
      "cell_type": "markdown",
      "source": [
        "###Выделение вектора признаков"
      ],
      "metadata": {
        "id": "IL_JtYQsaYhA"
      }
    },
    {
      "cell_type": "markdown",
      "source": [
        "Перед тем, как выполнить разделение данных, рассмотрим используемый набор данных. Это набор данных по диабету. В наборе учавствует множество данных,  таких как:\n",
        "* Беременность,\n",
        "* Уровень глюкозы,\n",
        "* Кровяное давление,\n",
        "* Состояние кожи,\n",
        "* Инсулин,\n",
        "* ИМТ,\n",
        "* Родословная диабета,\n",
        "* Возраст,\n",
        "* Результат.\n",
        "\n",
        "Ссылка на [Dataset](https://www.kaggle.com/datasets/pritsheta/diabetes-dataset).\n",
        "\n",
        "Совершенно очевидным становится тот факт, что в качестве признаков могут и должны быть использованы все столбцы, кроме крайнего. На основании данного принципа и будем производить разбиение даных."
      ],
      "metadata": {
        "id": "jdPaMvSMHLl8"
      }
    },
    {
      "cell_type": "code",
      "source": [
        "X_data = dataframe.drop(\"Outcome\", axis=1) \n",
        "y_target = dataframe[\"Outcome\"]"
      ],
      "metadata": {
        "id": "RoMYNBTkGlkg"
      },
      "execution_count": 4,
      "outputs": []
    },
    {
      "cell_type": "markdown",
      "source": [
        "###Разделение данных на тестовую и тренировочную выборки"
      ],
      "metadata": {
        "id": "gVw7mZt5y_EH"
      }
    },
    {
      "cell_type": "markdown",
      "source": [
        "Для разделения данных на тренировочные и тестовые выборки воспользуемся стандартной командой и произведем разбиение в слетующем процентном соотношении\n",
        "30/70 (30 - тестовая выборка, 70 - обучающая)."
      ],
      "metadata": {
        "id": "riKZuXcJw7fU"
      }
    },
    {
      "cell_type": "code",
      "source": [
        "X_train, X_test, y_train, y_test = train_test_split(X_data, y_target, test_size=.35, random_state=42)"
      ],
      "metadata": {
        "id": "FFzmtWu8x5-d"
      },
      "execution_count": 16,
      "outputs": []
    },
    {
      "cell_type": "markdown",
      "source": [
        "###Подготовка нормализованного набора данных"
      ],
      "metadata": {
        "id": "R_caz_CC3F1E"
      }
    },
    {
      "cell_type": "code",
      "source": [
        "from sklearn.preprocessing import StandardScaler\n",
        "scaler = StandardScaler()\n",
        "scaler.fit(X_train)\n",
        "X_train_scaler = scaler.transform(X_train)\n",
        "X_test_scaler = scaler.transform(X_test)"
      ],
      "metadata": {
        "id": "EYOJ_ZH22Ypt"
      },
      "execution_count": 17,
      "outputs": []
    },
    {
      "cell_type": "markdown",
      "source": [
        "##Этап 3. Выбор классификатора"
      ],
      "metadata": {
        "id": "3qMOXQqORrwv"
      }
    },
    {
      "cell_type": "markdown",
      "source": [
        "### kNN"
      ],
      "metadata": {
        "id": "USSAgyhsRz3H"
      }
    },
    {
      "cell_type": "code",
      "source": [
        "classifierKNN = KNeighborsClassifier()\n",
        "classifierKNN.fit(X_train_scaler, y_train)\n",
        "classifierPredictionKNN = classifierKNN.predict(X_test_scaler)   "
      ],
      "metadata": {
        "id": "9RO_jd--R4yu"
      },
      "execution_count": 36,
      "outputs": []
    },
    {
      "cell_type": "code",
      "source": [
        "accuracy_score(y_test, classifierPredictionKNN)*100"
      ],
      "metadata": {
        "colab": {
          "base_uri": "https://localhost:8080/"
        },
        "id": "YshkOVidjNq-",
        "outputId": "cdaca397-6ade-440d-94c4-b98500c3543c"
      },
      "execution_count": 37,
      "outputs": [
        {
          "output_type": "execute_result",
          "data": {
            "text/plain": [
              "71.00371747211895"
            ]
          },
          "metadata": {},
          "execution_count": 37
        }
      ]
    },
    {
      "cell_type": "markdown",
      "source": [
        "###DecisionTreeClassifier"
      ],
      "metadata": {
        "id": "Ei8e_czTOfyA"
      }
    },
    {
      "cell_type": "code",
      "source": [
        "classifierDTC = DecisionTreeClassifier()\n",
        "classifierDTC.fit(X_train_scaler, y_train)\n",
        "classifierPredictionDTC = classifierDTC.predict(X_test_scaler)    "
      ],
      "metadata": {
        "id": "jAjikZFHOfho"
      },
      "execution_count": 38,
      "outputs": []
    },
    {
      "cell_type": "code",
      "source": [
        "accuracy_score(y_test, classifierPredictionDTC)*100"
      ],
      "metadata": {
        "colab": {
          "base_uri": "https://localhost:8080/"
        },
        "id": "4Sa18Pnvbdiy",
        "outputId": "56ba11c2-2099-449d-d113-fec099c5757f"
      },
      "execution_count": 39,
      "outputs": [
        {
          "output_type": "execute_result",
          "data": {
            "text/plain": [
              "71.37546468401487"
            ]
          },
          "metadata": {},
          "execution_count": 39
        }
      ]
    },
    {
      "cell_type": "markdown",
      "source": [
        "###RandomForestClassifier"
      ],
      "metadata": {
        "id": "jf2jtAWSOgIp"
      }
    },
    {
      "cell_type": "code",
      "source": [
        "classifierRF = RandomForestClassifier()\n",
        "classifierRF.fit(X_train_scaler, y_train)\n",
        "classifierPredictionRF = classifierRF.predict(X_test_scaler)"
      ],
      "metadata": {
        "id": "dCHd8lC6OfbI"
      },
      "execution_count": 40,
      "outputs": []
    },
    {
      "cell_type": "code",
      "source": [
        "accuracy_score(y_test, classifierPredictionRF) * 100"
      ],
      "metadata": {
        "colab": {
          "base_uri": "https://localhost:8080/"
        },
        "id": "FWYCq_e_gj10",
        "outputId": "b90fc8df-2c1a-47b1-964d-9b34c1e6160f"
      },
      "execution_count": 41,
      "outputs": [
        {
          "output_type": "execute_result",
          "data": {
            "text/plain": [
              "75.09293680297398"
            ]
          },
          "metadata": {},
          "execution_count": 41
        }
      ]
    },
    {
      "cell_type": "markdown",
      "source": [
        "##Этап 4. Определение оптимальных значений гиперпараметров"
      ],
      "metadata": {
        "id": "dBcTmAOEjVxE"
      }
    },
    {
      "cell_type": "markdown",
      "source": [
        "### kNN"
      ],
      "metadata": {
        "id": "KVLSAM55kZ09"
      }
    },
    {
      "cell_type": "code",
      "source": [
        "KNeighborsParams = {'n_neighbors': range(1, 32)}\n",
        "KNeighborsGSCV = GridSearchCV(KNeighborsClassifier(), KNeighborsParams, scoring=\"roc_auc\")"
      ],
      "metadata": {
        "id": "Q6mrmD0IkbHN"
      },
      "execution_count": 42,
      "outputs": []
    },
    {
      "cell_type": "markdown",
      "source": [
        "###DecisionTreeClassifier"
      ],
      "metadata": {
        "id": "9iwpGq6JkbUM"
      }
    },
    {
      "cell_type": "code",
      "source": [
        "DecisionTreeParams = {\n",
        "    \"max_depth\": np.linspace(1, 32, 32, endpoint=True),\n",
        "    \"min_samples_split\": np.linspace(0.01, 0.1, 10, endpoint=True),\n",
        "    \"min_samples_leaf\": np.linspace(0.01, 0.1, 10, endpoint=True),\n",
        "}\n",
        "DecisionTreeGSCV = GridSearchCV(DecisionTreeClassifier(), DecisionTreeParams)"
      ],
      "metadata": {
        "id": "QIVA7kIlkcKE"
      },
      "execution_count": 43,
      "outputs": []
    },
    {
      "cell_type": "markdown",
      "source": [
        "###RandomForestClassifier"
      ],
      "metadata": {
        "id": "8A7dZ9v2kcXU"
      }
    },
    {
      "cell_type": "code",
      "source": [
        "RandomForestParams = {\"n_estimators\": range(1, 32)}\n",
        "RandomForestGSCV = GridSearchCV(RandomForestClassifier(), RandomForestParams)"
      ],
      "metadata": {
        "id": "BVCgfugpkeWM"
      },
      "execution_count": 44,
      "outputs": []
    },
    {
      "cell_type": "markdown",
      "source": [
        "##Этап 5. Выбор классификатора с учетом гиперпараметров"
      ],
      "metadata": {
        "id": "5hxvxC5-2rjf"
      }
    },
    {
      "cell_type": "markdown",
      "source": [
        "### kNN"
      ],
      "metadata": {
        "id": "k84VbnpD3iKQ"
      }
    },
    {
      "cell_type": "code",
      "source": [
        "KNeighborsGSCV.fit(X_train_scaler, y_train)\n",
        "print(KNeighborsGSCV.best_estimator_)\n",
        "KNeighborsPredictGSCV = KNeighborsGSCV.predict(X_test_scaler)\n",
        "accuracy_score(y_test, KNeighborsPredictGSCV) * 100"
      ],
      "metadata": {
        "colab": {
          "base_uri": "https://localhost:8080/"
        },
        "id": "ZiF1SqKy3hj4",
        "outputId": "528b806c-ed87-4b3c-ba9b-24b4746cf951"
      },
      "execution_count": 45,
      "outputs": [
        {
          "output_type": "stream",
          "name": "stdout",
          "text": [
            "KNeighborsClassifier(n_neighbors=31)\n"
          ]
        },
        {
          "output_type": "execute_result",
          "data": {
            "text/plain": [
              "73.60594795539033"
            ]
          },
          "metadata": {},
          "execution_count": 45
        }
      ]
    },
    {
      "cell_type": "markdown",
      "source": [
        "###DecisionTreeClassifier"
      ],
      "metadata": {
        "id": "TBBwH4aM4JIH"
      }
    },
    {
      "cell_type": "code",
      "source": [
        "DecisionTreeGSCV.fit(X_train_scaler, y_train)\n",
        "print(DecisionTreeGSCV.best_estimator_)\n",
        "DecisionTreeGSCV_Predict = DecisionTreeGSCV.predict(X_test_scaler)\n",
        "accuracy_score(y_test, DecisionTreeGSCV_Predict) * 100"
      ],
      "metadata": {
        "colab": {
          "base_uri": "https://localhost:8080/"
        },
        "id": "1tl30N0c4Haw",
        "outputId": "438085d4-5b10-447a-f6a3-bffa68774871"
      },
      "execution_count": 46,
      "outputs": [
        {
          "output_type": "stream",
          "name": "stdout",
          "text": [
            "DecisionTreeClassifier(max_depth=4.0, min_samples_leaf=0.030000000000000006,\n",
            "                       min_samples_split=0.09000000000000001)\n"
          ]
        },
        {
          "output_type": "execute_result",
          "data": {
            "text/plain": [
              "73.60594795539033"
            ]
          },
          "metadata": {},
          "execution_count": 46
        }
      ]
    },
    {
      "cell_type": "markdown",
      "source": [
        "###RandomForestClassifier"
      ],
      "metadata": {
        "id": "BHozLNph4g8I"
      }
    },
    {
      "cell_type": "code",
      "source": [
        "RandomForestGSCV.fit(X_train_scaler, y_train)\n",
        "print(RandomForestGSCV.best_estimator_)\n",
        "RandomForestGSCV_Predict = RandomForestGSCV.predict(X_test_scaler)\n",
        "accuracy_score(y_test, RandomForestGSCV_Predict) * 100"
      ],
      "metadata": {
        "colab": {
          "base_uri": "https://localhost:8080/"
        },
        "id": "HWgv7kMJ4fDo",
        "outputId": "6be431c3-e0a7-4791-a243-8d85824070dc"
      },
      "execution_count": 47,
      "outputs": [
        {
          "output_type": "stream",
          "name": "stdout",
          "text": [
            "RandomForestClassifier(n_estimators=21)\n"
          ]
        },
        {
          "output_type": "execute_result",
          "data": {
            "text/plain": [
              "76.57992565055763"
            ]
          },
          "metadata": {},
          "execution_count": 47
        }
      ]
    }
  ]
}